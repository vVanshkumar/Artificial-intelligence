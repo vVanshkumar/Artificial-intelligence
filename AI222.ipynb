{
 "cells": [
  {
   "cell_type": "code",
   "execution_count": 1,
   "id": "720a4a93-8b6b-43df-8efb-ebb4f4dca542",
   "metadata": {},
   "outputs": [
    {
     "name": "stdout",
     "output_type": "stream",
     "text": [
      "55\n"
     ]
    }
   ],
   "source": [
    "a=55\n",
    "print(a)"
   ]
  },
  {
   "cell_type": "code",
   "execution_count": 2,
   "id": "9d8d62cc-3cb5-47f6-b144-43d56d1b9cc0",
   "metadata": {},
   "outputs": [
    {
     "name": "stdout",
     "output_type": "stream",
     "text": [
      "<class 'int'>\n"
     ]
    }
   ],
   "source": [
    "print(type(a))"
   ]
  },
  {
   "cell_type": "code",
   "execution_count": 5,
   "id": "d100b397-646e-40a3-a08c-52add1ec4a85",
   "metadata": {},
   "outputs": [
    {
     "name": "stdout",
     "output_type": "stream",
     "text": [
      "Welcome to Robo Speaker!\n"
     ]
    },
    {
     "name": "stdin",
     "output_type": "stream",
     "text": [
      "Enter what you want me to say (or type 'exit' to quit):  hii\n",
      "Enter what you want me to say (or type 'exit' to quit):  yes\n",
      "Enter what you want me to say (or type 'exit' to quit):  hello\n",
      "Enter what you want me to say (or type 'exit' to quit):  abd\n",
      "Enter what you want me to say (or type 'exit' to quit):  mitch\n",
      "Enter what you want me to say (or type 'exit' to quit):  exit\n"
     ]
    },
    {
     "name": "stdout",
     "output_type": "stream",
     "text": [
      "Goodbye!\n"
     ]
    }
   ],
   "source": [
    "import pyttsx3\n",
    "\n",
    "def robo_speaker(text):\n",
    "    # Initialize the TTS engine\n",
    "    engine = pyttsx3.init()\n",
    "\n",
    "    # Set properties (optional)\n",
    "    engine.setProperty('rate', 150)  # Speed of speech\n",
    "    engine.setProperty('volume', 1.0)  # Volume level (0.0 to 1.0)\n",
    "\n",
    "    # Get available voices\n",
    "    voices = engine.getProperty('voices')\n",
    "\n",
    "    # Set a voice (optional)\n",
    "    engine.setProperty('voice', voices[0].id)  # 0 for male, 1 for female (if available)\n",
    "\n",
    "    # Convert text to speech\n",
    "    engine.say(text)\n",
    "    engine.runAndWait()\n",
    "\n",
    "if __name__ == \"__main__\":\n",
    "    print(\"Welcome to Robo Speaker!\")\n",
    "    while True:\n",
    "        text = input(\"Enter what you want me to say (or type 'exit' to quit): \")\n",
    "        if text.lower() == \"exit\":\n",
    "            print(\"Goodbye!\")\n",
    "            break\n",
    "        robo_speaker(text)\n"
   ]
  },
  {
   "cell_type": "code",
   "execution_count": 4,
   "id": "77bd2a26-e94e-4464-9931-16b001d0610a",
   "metadata": {},
   "outputs": [
    {
     "name": "stdout",
     "output_type": "stream",
     "text": [
      "Collecting pyttsx3Note: you may need to restart the kernel to use updated packages.\n",
      "\n",
      "  Using cached pyttsx3-2.98-py3-none-any.whl.metadata (3.8 kB)\n",
      "Collecting comtypes (from pyttsx3)\n",
      "  Using cached comtypes-1.4.10-py3-none-any.whl.metadata (7.2 kB)\n",
      "Collecting pypiwin32 (from pyttsx3)\n",
      "  Using cached pypiwin32-223-py3-none-any.whl.metadata (236 bytes)\n",
      "Requirement already satisfied: pywin32 in c:\\users\\asus\\appdata\\roaming\\python\\python312\\site-packages (from pyttsx3) (308)\n",
      "Using cached pyttsx3-2.98-py3-none-any.whl (34 kB)\n",
      "Using cached comtypes-1.4.10-py3-none-any.whl (241 kB)\n",
      "Using cached pypiwin32-223-py3-none-any.whl (1.7 kB)\n",
      "Installing collected packages: pypiwin32, comtypes, pyttsx3\n",
      "Successfully installed comtypes-1.4.10 pypiwin32-223 pyttsx3-2.98\n"
     ]
    }
   ],
   "source": [
    "pip install pyttsx3"
   ]
  },
  {
   "cell_type": "code",
   "execution_count": 6,
   "id": "4bcfa8a9-68fc-4e8f-bf55-681be0e67f3b",
   "metadata": {},
   "outputs": [
    {
     "data": {
      "text/plain": [
       "4.5"
      ]
     },
     "execution_count": 6,
     "metadata": {},
     "output_type": "execute_result"
    }
   ],
   "source": [
    "a=4.5\n",
    "a"
   ]
  },
  {
   "cell_type": "code",
   "execution_count": 7,
   "id": "36d9b290-c393-4860-be5c-553dd74bd368",
   "metadata": {},
   "outputs": [
    {
     "data": {
      "text/plain": [
       "56"
      ]
     },
     "execution_count": 7,
     "metadata": {},
     "output_type": "execute_result"
    }
   ],
   "source": [
    "b=56\n",
    "b"
   ]
  },
  {
   "cell_type": "code",
   "execution_count": 8,
   "id": "90ca14fa-b1a0-48d5-a39e-9adc47b918fb",
   "metadata": {},
   "outputs": [
    {
     "data": {
      "text/plain": [
       "4.5"
      ]
     },
     "execution_count": 8,
     "metadata": {},
     "output_type": "execute_result"
    }
   ],
   "source": [
    "a=4.5\n",
    "a"
   ]
  },
  {
   "cell_type": "code",
   "execution_count": 9,
   "id": "39cfd5a7-71b0-4be0-b271-ca76c12cbc68",
   "metadata": {},
   "outputs": [
    {
     "data": {
      "text/plain": [
       "4.5"
      ]
     },
     "execution_count": 9,
     "metadata": {},
     "output_type": "execute_result"
    }
   ],
   "source": [
    "a"
   ]
  },
  {
   "cell_type": "code",
   "execution_count": null,
   "id": "40b4600b-c1af-4088-8e8f-d33521f95e82",
   "metadata": {},
   "outputs": [],
   "source": []
  }
 ],
 "metadata": {
  "kernelspec": {
   "display_name": "Python 3 (ipykernel)",
   "language": "python",
   "name": "python3"
  },
  "language_info": {
   "codemirror_mode": {
    "name": "ipython",
    "version": 3
   },
   "file_extension": ".py",
   "mimetype": "text/x-python",
   "name": "python",
   "nbconvert_exporter": "python",
   "pygments_lexer": "ipython3",
   "version": "3.12.7"
  }
 },
 "nbformat": 4,
 "nbformat_minor": 5
}
